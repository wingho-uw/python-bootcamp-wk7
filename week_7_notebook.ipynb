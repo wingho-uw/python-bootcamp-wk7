{
 "cells": [
  {
   "cell_type": "markdown",
   "id": "e7f45b28-b894-44e4-b7b8-31588d05685f",
   "metadata": {},
   "source": [
    "Oceanography python bootcamp, Winter 2025\n",
    "# Week 7 notebook"
   ]
  },
  {
   "cell_type": "code",
   "execution_count": null,
   "id": "db9d5a79-9e16-4013-81cb-82bc0ae256c2",
   "metadata": {},
   "outputs": [],
   "source": [
    "import os\n",
    "\n",
    "import numpy as np\n",
    "\n",
    "import matplotlib as mpl\n",
    "import matplotlib.pyplot as plt\n",
    "\n",
    "import scipy.optimize as sopt\n",
    "import scipy.integrate as sint"
   ]
  },
  {
   "cell_type": "markdown",
   "id": "42864e99-ed70-472f-b78e-95e291ac8875",
   "metadata": {},
   "source": [
    "## Nonlinear equation solving"
   ]
  },
  {
   "cell_type": "markdown",
   "id": "27a6a6b3-fc30-49e1-b67b-d3efacb043fe",
   "metadata": {
    "jp-MarkdownHeadingCollapsed": true
   },
   "source": [
    "### 1D example: $\\tan(x) = x$"
   ]
  },
  {
   "cell_type": "code",
   "execution_count": null,
   "id": "458216a2-9e94-4b45-ad66-a120b989093e",
   "metadata": {},
   "outputs": [],
   "source": [
    "# first define the function we want the root for\n",
    "def f(x):\n",
    "    return np.tan(x) - x"
   ]
  },
  {
   "cell_type": "code",
   "execution_count": null,
   "id": "22c04490-7158-4329-89b2-586f6b0dcb43",
   "metadata": {},
   "outputs": [],
   "source": [
    "# next find a suitable bracketing interval\n",
    "bracket = np.array([np.pi, 3*np.pi/2 - 0.1])\n",
    "\n",
    "print(bracket)\n",
    "print(f(bracket))"
   ]
  },
  {
   "cell_type": "code",
   "execution_count": null,
   "id": "aaa106eb-1554-4cbe-a7b5-a5ed8e43258d",
   "metadata": {},
   "outputs": [],
   "source": [
    "# call root_scalar() to find root\n",
    "# NOTE: the default method of root_scalar() is brentq\n",
    "soln = sopt.root_scalar(f, bracket=bracket)"
   ]
  },
  {
   "cell_type": "code",
   "execution_count": null,
   "id": "4202334a-96f8-444c-902e-6f50d7db006d",
   "metadata": {},
   "outputs": [],
   "source": [
    "# print for information\n",
    "print(soln)"
   ]
  },
  {
   "cell_type": "code",
   "execution_count": null,
   "id": "f0ce947d-a4c1-412d-9d56-5f3bb3a5a142",
   "metadata": {},
   "outputs": [],
   "source": [
    "# extract the root programatically\n",
    "soln.root"
   ]
  },
  {
   "cell_type": "markdown",
   "id": "a2f94b5d-1435-4e9e-93d3-f22577f77564",
   "metadata": {
    "jp-MarkdownHeadingCollapsed": true
   },
   "source": [
    "### Simultaneous equations example: a pair of polynomial equations"
   ]
  },
  {
   "cell_type": "markdown",
   "id": "fb4170bd-9439-4ea0-a6ec-c33270f92e80",
   "metadata": {},
   "source": [
    "Suppose we're to simultaneously solve the pair of polynomial equations in the first quadrant:\n",
    "$$ x^2 + y^2 = 10 $$\n",
    "$$ x^2 y - x y^3 - xy = -3 $$\n",
    "\n",
    "where $x$ and $y$ are non-negative."
   ]
  },
  {
   "cell_type": "code",
   "execution_count": null,
   "id": "4e4322fa-3eb7-4c87-9d77-bf389469702c",
   "metadata": {},
   "outputs": [],
   "source": [
    "# first we define the equation to solve\n",
    "def g(x):\n",
    "    y1 = x[0]**2 + x[1]**2 - 10 # first equation\n",
    "    y2 = x[0] * x[1] * (x[0] - x[1]**2 - 1) + 3 # second equation\n",
    "    return np.array([y1, y2])"
   ]
  },
  {
   "cell_type": "code",
   "execution_count": null,
   "id": "0a3e6495-5752-4a40-846e-ad566910256f",
   "metadata": {},
   "outputs": [],
   "source": [
    "# Visualize the situation using contour\n",
    "x = np.linspace(0, 5, 51)\n",
    "y = np.linspace(0, 5, 51)\n",
    "\n",
    "x_grid, y_grid = np.meshgrid(x, y)\n",
    "\n",
    "z = g(np.array([x_grid, y_grid]))\n",
    "\n",
    "print(x_grid.shape, y_grid.shape, z.shape)\n",
    "\n",
    "fig = plt.figure()\n",
    "ax = fig.add_subplot()\n",
    "\n",
    "ax.set_aspect(1)\n",
    "\n",
    "c1 = ax.contour(x, y, z[0, :, :], colors=\"red\", linestyles=\"--\")\n",
    "c2 = ax.contour(x, y, z[1, :, :], colors=\"blue\", linestyles=\":\")\n",
    "\n",
    "c1.clabel()\n",
    "c2.clabel()\n",
    "\n",
    "handles1, _ = c1.legend_elements()\n",
    "handles2, _ = c2.legend_elements()\n",
    "\n",
    "ax.legend(\n",
    "    handles = handles1[:1] + handles2[:1], \n",
    "    labels = [\"$ x^2 + y^2 - 10 $\", \"$ x^2 y - x y^3 - xy + 3 $\"], \n",
    "    loc=\"lower right\"\n",
    ")\n",
    "\n",
    "plt.show()"
   ]
  },
  {
   "cell_type": "code",
   "execution_count": null,
   "id": "51161821-374c-4d52-8413-a1cdb58e6d84",
   "metadata": {},
   "outputs": [],
   "source": [
    "# try to find the first root\n",
    "soln1 = sopt.root(g, np.array([3, 1]))"
   ]
  },
  {
   "cell_type": "code",
   "execution_count": null,
   "id": "722efe0e-4db9-4366-8c0c-36eb542221eb",
   "metadata": {},
   "outputs": [],
   "source": [
    "print(soln1)"
   ]
  },
  {
   "cell_type": "code",
   "execution_count": null,
   "id": "1217ee4a-6d48-4222-9976-0d56dda9298d",
   "metadata": {},
   "outputs": [],
   "source": [
    "# try to find the second root\n",
    "soln2 = sopt.root(g, np.array([0, 3]))"
   ]
  },
  {
   "cell_type": "code",
   "execution_count": null,
   "id": "0cd221c0-51bb-465a-a3ae-0e0ad7a4acfa",
   "metadata": {},
   "outputs": [],
   "source": [
    "print(soln2)"
   ]
  },
  {
   "cell_type": "code",
   "execution_count": null,
   "id": "67e3be9f-79c5-4dab-bd02-aaf346db1224",
   "metadata": {},
   "outputs": [],
   "source": [
    "# extract the root programmatically:\n",
    "soln1.x"
   ]
  },
  {
   "cell_type": "code",
   "execution_count": null,
   "id": "bc64cebb-2c79-49e3-829e-2cf629dca8fd",
   "metadata": {},
   "outputs": [],
   "source": [
    "soln2.x"
   ]
  },
  {
   "cell_type": "markdown",
   "id": "369a1d0a-3673-438f-af77-c26f2bec4e9e",
   "metadata": {
    "jp-MarkdownHeadingCollapsed": true
   },
   "source": [
    "### Exercise 1"
   ]
  },
  {
   "cell_type": "markdown",
   "id": "d4191082-e192-4560-a83d-495da44c4c47",
   "metadata": {},
   "source": [
    "Water flows in an open, rectangular channel of constant width (w). There is a small ramp (height δ) downstream. From the Bernoulli equation and the continuity equation, we obtain:\n",
    "\n",
    "$$ \\frac{Q^2}{2 g w^2} \\left(\\frac{1}{h_0^2} - \\frac{1}{h^2}\\right) - (h - h_0) - δ = 0 $$\n",
    "\n",
    "where $g$ = 9.8 m/s$^2$ is the acceleration of gravity, h0 and h are the water levels, and $Q$ is the volume flow rate. For $Q$ = 0.4 m$^3$/s, $w$ = 0.8 m, $h_0$ = 0.5 m and $δ$ = 0.07 m, estimate the elevation of the water surface $h + δ$ downstream of the ramp\n"
   ]
  },
  {
   "cell_type": "markdown",
   "id": "822517db-0167-4342-8bab-8edf4030ad5a",
   "metadata": {},
   "source": [
    "## Numerical integrations"
   ]
  },
  {
   "cell_type": "markdown",
   "id": "2308384d-bc6a-46a3-b6e7-322326bb0239",
   "metadata": {
    "jp-MarkdownHeadingCollapsed": true
   },
   "source": [
    "### Example: $\\int_0^4 x^2 dx$"
   ]
  },
  {
   "cell_type": "code",
   "execution_count": null,
   "id": "cdd17666-2114-4859-a8cd-c03a2ef77381",
   "metadata": {},
   "outputs": [],
   "source": [
    "def f1(x):\n",
    "    return x**2\n",
    "\n",
    "integral1 = sint.quad(f1, 0, 4)\n",
    "print(integral1)"
   ]
  },
  {
   "cell_type": "code",
   "execution_count": null,
   "id": "c8cf8241-6348-4d51-9785-ec59fd5f362c",
   "metadata": {},
   "outputs": [],
   "source": [
    "# compare to exact answer\n",
    "exact1 = float(4**3 / 3)\n",
    "print(exact1)"
   ]
  },
  {
   "cell_type": "code",
   "execution_count": null,
   "id": "682e9533-3bd2-467c-85d4-98268422d139",
   "metadata": {},
   "outputs": [],
   "source": [
    "# compare the difference with the error bound\n",
    "integral1[0] - exact1"
   ]
  },
  {
   "cell_type": "code",
   "execution_count": null,
   "id": "fee02988-0556-47bc-95e8-c9c4247916fc",
   "metadata": {},
   "outputs": [],
   "source": [
    "# showing extra information about the integral\n",
    "\n",
    "integral_full = sint.quad(f1, 0, 4, full_output=True)\n",
    "integral_info = integral_full[2]\n",
    "\n",
    "for attr in integral_info:\n",
    "    print(attr, \":\", integral_info[attr], \"\\n\")"
   ]
  },
  {
   "cell_type": "markdown",
   "id": "cee2cf12-8ea8-4727-bdb5-d4cd33407eda",
   "metadata": {
    "jp-MarkdownHeadingCollapsed": true
   },
   "source": [
    "### Example: $\\int_0^\\infty e^{-x^2} dx$"
   ]
  },
  {
   "cell_type": "code",
   "execution_count": null,
   "id": "9aa1fd8a-a5f5-428c-8455-bd2246ee35d9",
   "metadata": {},
   "outputs": [],
   "source": [
    "def f2(x):\n",
    "    return np.exp(-x**2)\n",
    "\n",
    "integral2 = sint.quad(f2, 0, np.inf)\n",
    "print(integral2)"
   ]
  },
  {
   "cell_type": "code",
   "execution_count": null,
   "id": "0746cc42-aa4c-4f16-97a7-cd38054e774d",
   "metadata": {},
   "outputs": [],
   "source": [
    "# compare to exact answer\n",
    "exact2 = float(np.sqrt(np.pi) / 2)\n",
    "print(exact2)"
   ]
  },
  {
   "cell_type": "code",
   "execution_count": null,
   "id": "37e1800a-a2ba-4aec-9832-6a8000669efd",
   "metadata": {},
   "outputs": [],
   "source": [
    "# compare the difference with the error bound\n",
    "integral2[0] - exact2"
   ]
  },
  {
   "cell_type": "markdown",
   "id": "93420d89-55cf-40e7-9442-14dda40e2d17",
   "metadata": {
    "jp-MarkdownHeadingCollapsed": true
   },
   "source": [
    "### Example: $\\int_{-1}^{1} \\frac{1}{\\sqrt{1 - x^2}} dx$"
   ]
  },
  {
   "cell_type": "code",
   "execution_count": null,
   "id": "04e58d7a-9295-4b3c-b86f-574d55bfde75",
   "metadata": {},
   "outputs": [],
   "source": [
    "def f3(x): \n",
    "    return 1/np.sqrt(1-x**2)\n",
    "\n",
    "integral3 = sint.quad(f3, -1, 1)\n",
    "print(integral3)"
   ]
  },
  {
   "cell_type": "code",
   "execution_count": null,
   "id": "41fca7c4-1243-4039-b7a8-6a0942211e74",
   "metadata": {},
   "outputs": [],
   "source": [
    "# compare to exact answer\n",
    "exact3 = float(np.pi)\n",
    "print(exact3)"
   ]
  },
  {
   "cell_type": "code",
   "execution_count": null,
   "id": "869d2c96-0986-4b53-a7a9-7f5af19a34f8",
   "metadata": {},
   "outputs": [],
   "source": [
    "# compare the difference with the error bound\n",
    "integral3[0] - exact3"
   ]
  },
  {
   "cell_type": "markdown",
   "id": "70c6b956-1e51-4e5b-820e-8ff4f480fcc6",
   "metadata": {
    "jp-MarkdownHeadingCollapsed": true
   },
   "source": [
    "### Example: $\\int_{0}^{4} \\frac{1}{\\sqrt[3]{x - 1}} dx$"
   ]
  },
  {
   "cell_type": "code",
   "execution_count": null,
   "id": "a7e03e96-eef7-4098-8a3b-95a8d6d5b43e",
   "metadata": {},
   "outputs": [],
   "source": [
    "## NOTE: use cbrt to correct obtain negative value for cube root of negative number\n",
    "\n",
    "def f4(x):\n",
    "    return 1/np.cbrt(x - 1)"
   ]
  },
  {
   "cell_type": "code",
   "execution_count": null,
   "id": "7c49d907-7db7-4878-b565-4d9788c8551c",
   "metadata": {},
   "outputs": [],
   "source": [
    "# WRONG: did not specify location of singularity\n",
    "integral4 = sint.quad(f4, 0, 4)\n",
    "print(integral4)"
   ]
  },
  {
   "cell_type": "code",
   "execution_count": null,
   "id": "6944575b-4aa0-463e-916c-a11b04360f6e",
   "metadata": {},
   "outputs": [],
   "source": [
    "# CORRECT: using the point2 argument\n",
    "integral4 = sint.quad(f4, 0, 4, points=[1])\n",
    "print(integral4)"
   ]
  },
  {
   "cell_type": "code",
   "execution_count": null,
   "id": "e9944015-0b2e-4837-9e4e-e173efd770cd",
   "metadata": {},
   "outputs": [],
   "source": [
    "# compare to exact answer\n",
    "exact4 = float(1.5 * (3**(2/3) - 1))\n",
    "print(exact4)"
   ]
  },
  {
   "cell_type": "code",
   "execution_count": null,
   "id": "5b5bb002-358d-4291-914b-e8efc6c7f661",
   "metadata": {},
   "outputs": [],
   "source": [
    "# compare the difference with the error bound\n",
    "integral4[0] - exact4"
   ]
  },
  {
   "cell_type": "code",
   "execution_count": null,
   "id": "53ca4c54-254b-4c78-801f-5ce20eae302b",
   "metadata": {},
   "outputs": [],
   "source": [
    "# using symmetry to calculate an easier equivalent integral\n",
    "integral4b = sint.quad(f4, 2, 4, points=[1])\n",
    "print(integral4b)"
   ]
  },
  {
   "cell_type": "markdown",
   "id": "78a336b1-4202-4647-80c0-1b61eb024af6",
   "metadata": {
    "jp-MarkdownHeadingCollapsed": true
   },
   "source": [
    "### Example: volume of paraboloid $z = 4 − 2 x^2 − y^2$ above $z = 0$"
   ]
  },
  {
   "cell_type": "code",
   "execution_count": null,
   "id": "4396e9c2-0158-47e3-88b3-7a0edb2019c2",
   "metadata": {},
   "outputs": [],
   "source": [
    "def z(x, y):\n",
    "    return 4 - 2 * x**2 - y**2\n",
    "\n",
    "def x_upper(y):\n",
    "    return np.sqrt(0.5 * (4 -  y**2))\n",
    "\n",
    "def x_lower(y):\n",
    "    return -np.sqrt(0.5 * (4 - y**2))\n",
    "\n",
    "dbl_integral = sint.dblquad(z, -2, 2, x_lower, x_upper)\n",
    "print(dbl_integral)"
   ]
  },
  {
   "cell_type": "code",
   "execution_count": null,
   "id": "426aea35-78a4-447e-b9b1-c78188d13778",
   "metadata": {},
   "outputs": [],
   "source": [
    "def z_pos(x, y):\n",
    "    return max(4 - 2 * x**2 - y**2, 0)\n",
    "\n",
    "dbl_integral_2 = sint.dblquad(z_pos, -2, 2, -np.sqrt(2), np.sqrt(2))\n",
    "print(dbl_integral_2)"
   ]
  },
  {
   "cell_type": "code",
   "execution_count": null,
   "id": "00de0e85-fd35-4a03-b914-ce305b12b19e",
   "metadata": {},
   "outputs": [],
   "source": [
    "# compare to exact answer\n",
    "dbl_exact = float(0.5 * np.pi * 2**4) / np.sqrt(2)\n",
    "print(dbl_exact)"
   ]
  },
  {
   "cell_type": "code",
   "execution_count": null,
   "id": "21291a17-d142-4813-b4e7-300233f373f8",
   "metadata": {},
   "outputs": [],
   "source": [
    "# compare the difference with the error bound\n",
    "dbl_integral[0] - dbl_exact"
   ]
  },
  {
   "cell_type": "markdown",
   "id": "085cc967-0bdf-46bc-be26-1f993d3b2d70",
   "metadata": {
    "jp-MarkdownHeadingCollapsed": true
   },
   "source": [
    "### Exercise 2"
   ]
  },
  {
   "cell_type": "markdown",
   "id": "c13c2a57-b30f-424e-aac7-ce77cf829034",
   "metadata": {},
   "source": [
    "The vertical velocity $v_y$ of a rocket whose initial mass (including fuel) is $m$ is given by:\n",
    "\n",
    "$$ v_y(t) = - g t + u \\ln \\left( \\frac{m}{m - r t} \\right) $$\n",
    "\n",
    "where $u$ is the expulsion speed of the fuel, $r$ is the rate at which the fuel is consumed, and $g$ = 9.8 m/s$^2$ is the acceleration due to gravity. For $m$ = 15000 kg, $u$ = 2000 m/s and $r$ = 120 kg/s, evaluate the vertical position $y(t) = \\int_{0}^{t} v_y(\\tau) d\\tau$ at sufficiently fine intervals so that you can plot $y(t)$ for $t$ between 0 and 60 s"
   ]
  },
  {
   "cell_type": "markdown",
   "id": "56a254ec-c6ac-4ceb-ae43-945b888df3da",
   "metadata": {},
   "source": [
    "## Differential equation solving"
   ]
  },
  {
   "cell_type": "markdown",
   "id": "0146a3e8-e4a4-4d79-84b7-618c4c15ad17",
   "metadata": {
    "jp-MarkdownHeadingCollapsed": true
   },
   "source": [
    "### Example: $dy/dt = y (1 - y)$; $y(0) = 1/2$"
   ]
  },
  {
   "cell_type": "markdown",
   "id": "8bcd6992-da58-414e-9957-5ec9e362e354",
   "metadata": {},
   "source": [
    "NOTE: $dy/dt = y (1 - y)$ is the logistic equation. It is a first-order, seperable, nonlinear, autonomous differential equation"
   ]
  },
  {
   "cell_type": "code",
   "execution_count": null,
   "id": "7509dadd-07c4-488b-a314-44269939697b",
   "metadata": {},
   "outputs": [],
   "source": [
    "# define the RHS of the differential equation as a function\n",
    "# NOTE that the function needs to take t, y as arguments\n",
    "# even when there is no dependence on t\n",
    "\n",
    "def logistic(t, y):\n",
    "    return y * (1 - y)"
   ]
  },
  {
   "cell_type": "code",
   "execution_count": null,
   "id": "b71a7b7f-bc31-444e-801f-f1339db742d4",
   "metadata": {},
   "outputs": [],
   "source": [
    "# initial condition: y(t = 0) = 0.5; solve up to t = 5\n",
    "# solve the differential equation without additional requirements\n",
    "\n",
    "solved = sint.solve_ivp(logistic, [0, 5], [0.5])\n",
    "print(solved)"
   ]
  },
  {
   "cell_type": "code",
   "execution_count": null,
   "id": "22b5433b-3da9-464f-90c6-06c328870355",
   "metadata": {},
   "outputs": [],
   "source": [
    "# solve the differential equation at fine intervals\n",
    "solved2 = sint.solve_ivp(logistic, [0, 5], [0.5], t_eval=np.linspace(0, 5, 51))\n",
    "print(solved2)"
   ]
  },
  {
   "cell_type": "code",
   "execution_count": null,
   "id": "aa284ab2-3968-4140-8ce5-f63f5592e9e0",
   "metadata": {},
   "outputs": [],
   "source": [
    "# express solution as a function\n",
    "solved3 = sint.solve_ivp(logistic, [0, 5], [0.5], dense_output=True)\n",
    "print(solved3)"
   ]
  },
  {
   "cell_type": "code",
   "execution_count": null,
   "id": "32c2cf6f-964c-4e2c-8632-b59034576178",
   "metadata": {},
   "outputs": [],
   "source": [
    "# plotting the different results against exact solution\n",
    "def y_exact(t):\n",
    "    return 1 / (1 + np.exp(-t))"
   ]
  },
  {
   "cell_type": "code",
   "execution_count": null,
   "id": "9e86fd5f-c432-427a-8fe6-300f999e3766",
   "metadata": {},
   "outputs": [],
   "source": [
    "t_array = np.linspace(0, 5, 51)\n",
    "\n",
    "fig = plt.figure()\n",
    "ax = fig.add_subplot()\n",
    "\n",
    "ax.plot(t_array, y_exact(t_array), lw=1, label=\"exact\")\n",
    "ax.plot(solved2.t, solved2.y[0], lw=2, ls=\"--\", label=\"fine evaluation\")\n",
    "ax.plot(t_array, solved3.sol(t_array)[0], lw=3, ls=\":\", label=\"dense output\")\n",
    "\n",
    "ax.legend()\n",
    "\n",
    "plt.show(fig)"
   ]
  },
  {
   "cell_type": "code",
   "execution_count": null,
   "id": "46668af8-164d-41d7-8c18-20d97d0f45af",
   "metadata": {},
   "outputs": [],
   "source": [
    "# obtain the other half of the solution\n",
    "\n",
    "solved3b = sint.solve_ivp(logistic, [0, -5], [0.5], dense_output=True)\n",
    "print(solved3b)"
   ]
  },
  {
   "cell_type": "code",
   "execution_count": null,
   "id": "ad210c27-e131-4fa9-ace7-f6b90b248a48",
   "metadata": {},
   "outputs": [],
   "source": [
    "def full_logistic_sol(t):\n",
    "    return np.where(t < 0, solved3b.sol(t), solved3.sol(t))"
   ]
  },
  {
   "cell_type": "code",
   "execution_count": null,
   "id": "18835aa2-3f66-4a1a-a895-b6572f8245e7",
   "metadata": {},
   "outputs": [],
   "source": [
    "t2_array = np.linspace(-5, 5, 51)\n",
    "\n",
    "fig = plt.figure()\n",
    "ax = fig.add_subplot()\n",
    "\n",
    "ax.plot(t2_array, full_logistic_sol(t2_array)[0], c=\"tab:green\")\n",
    "\n",
    "plt.show(fig)"
   ]
  },
  {
   "cell_type": "markdown",
   "id": "0d7c7f06-1729-4aa8-8c26-5b595aea0301",
   "metadata": {
    "jp-MarkdownHeadingCollapsed": true
   },
   "source": [
    "### Example: $dy/dt = t^2 - y^2$; $y(0) = 1$"
   ]
  },
  {
   "cell_type": "markdown",
   "id": "8ab5b6aa-6045-40f7-a022-98fda435438e",
   "metadata": {},
   "source": [
    "NOTE: $dy/dt = t^2 - y^2$ is a first-order, nonlinear, non-autonomous differential equation"
   ]
  },
  {
   "cell_type": "code",
   "execution_count": null,
   "id": "d13e242e-5414-4919-aa30-60b58a7698b4",
   "metadata": {},
   "outputs": [],
   "source": [
    "def Riccati(t, y):\n",
    "    return t**2 - y**2"
   ]
  },
  {
   "cell_type": "code",
   "execution_count": null,
   "id": "fa73951e-171c-4d52-84ba-30b79e394be9",
   "metadata": {},
   "outputs": [],
   "source": [
    "solved = sint.solve_ivp(Riccati, [0, 2], [1], dense_output=True)\n",
    "print(solved)"
   ]
  },
  {
   "cell_type": "code",
   "execution_count": null,
   "id": "2f1a90b8-5d89-4567-9bb8-2082c38d5e4e",
   "metadata": {},
   "outputs": [],
   "source": [
    "t_array = np.linspace(0, 2, 51)\n",
    "y_array = solved.sol(t_array)[0]\n",
    "\n",
    "fig = plt.figure()\n",
    "ax = fig.add_subplot()\n",
    "\n",
    "ax.plot(t_array, y_array)\n",
    "\n",
    "plt.show(fig)"
   ]
  },
  {
   "cell_type": "markdown",
   "id": "806b4acb-8601-41e6-a481-f76af0f87df5",
   "metadata": {
    "jp-MarkdownHeadingCollapsed": true
   },
   "source": [
    "### Example: linear planar first-order ODE"
   ]
  },
  {
   "cell_type": "markdown",
   "id": "14598546-2412-4c9c-8438-cd18f6c0d365",
   "metadata": {},
   "source": [
    "Consider the system \n",
    "$$\n",
    "\\begin{align}\n",
    "dx/dt & = x + 2 y\\\\\n",
    "dy/dt & = - x - y\n",
    "\\end{align}\n",
    "$$\n",
    "with initial condition $x(0) = 1$ and $y(0) = 0$"
   ]
  },
  {
   "cell_type": "code",
   "execution_count": null,
   "id": "ec367606-9793-45e0-a0a1-8454ceea09a5",
   "metadata": {},
   "outputs": [],
   "source": [
    "def lin2D(t, y):\n",
    "    return np.array([y[0] + 2 * y[1], -y[0] -y[1]])"
   ]
  },
  {
   "cell_type": "code",
   "execution_count": null,
   "id": "c0a8866f-d439-4f8b-aac3-125b86b0736b",
   "metadata": {},
   "outputs": [],
   "source": [
    "solved = sint.solve_ivp(lin2D, [0, 10], [1, 0], dense_output=True)\n",
    "print(solved)"
   ]
  },
  {
   "cell_type": "code",
   "execution_count": null,
   "id": "ae8159bd-c5f8-4087-98a7-07feff1a976b",
   "metadata": {},
   "outputs": [],
   "source": [
    "# solution x(t), y(t) for t of range [0, 10]\n",
    "t_array = np.linspace(0, 10, 101)\n",
    "x_array, y_array = solved.sol(t_array)"
   ]
  },
  {
   "cell_type": "code",
   "execution_count": null,
   "id": "ac075446-98ac-4835-a898-dec77fb22669",
   "metadata": {},
   "outputs": [],
   "source": [
    "# x against time and y against time\n",
    "\n",
    "fig = plt.figure()\n",
    "ax = fig.add_subplot()\n",
    "\n",
    "ax.plot(t_array, x_array, c=\"tab:orange\", ls = \"--\", label=\"$x(t)$\")\n",
    "ax.plot(t_array, y_array, c=\"tab:green\", ls = \":\", lw=2, label=\"$y(t)$\")\n",
    "\n",
    "ax.legend()\n",
    "\n",
    "plt.show(fig)"
   ]
  },
  {
   "cell_type": "code",
   "execution_count": null,
   "id": "583a193c-57c9-4452-8a21-4a70e17925fc",
   "metadata": {},
   "outputs": [],
   "source": [
    "# x against y (phase portrait / trajectory)\n",
    "\n",
    "fig = plt.figure()\n",
    "ax = fig.add_subplot()\n",
    "\n",
    "ax.plot(x_array, y_array)\n",
    "\n",
    "plt.show(fig)"
   ]
  },
  {
   "cell_type": "markdown",
   "id": "4e1aa02f-458d-4aeb-a10e-5492aa0c4fa3",
   "metadata": {
    "jp-MarkdownHeadingCollapsed": true
   },
   "source": [
    "### Example: second-order differential equation"
   ]
  },
  {
   "cell_type": "markdown",
   "id": "6ca1b2dc-d5f3-4889-8773-376ba785aca8",
   "metadata": {},
   "source": [
    "Consider the second order differential equation:\n",
    "\n",
    "$$ \\frac{d^2 y}{dt^2} + 2 \\frac{dy}{dt} + 4 y = t \\sin(2t)$$\n",
    "\n",
    "with initial condition $dy/dt(0) = 1$ and $y(0) = 0$"
   ]
  },
  {
   "cell_type": "markdown",
   "id": "e017dfdb-ca01-4378-a58a-e671a1addf0d",
   "metadata": {},
   "source": [
    "Using the substitution $y_1 = y, y_2 = dy/dt$, we obtain the system:\n",
    "$$\n",
    "\\begin{align}\n",
    "dy_1/dt & = y_2 \\\\\n",
    "dy_2/dt & = - 2 y_2 - 4 y_1 + t \\sin(2t)\n",
    "\\end{align}\n",
    "$$\n",
    "and the initial condition becomes $y_1(0) = 0$ and $y_2(0) = 1$"
   ]
  },
  {
   "cell_type": "code",
   "execution_count": null,
   "id": "44d82d15-5396-41fc-8b81-acebd928026a",
   "metadata": {},
   "outputs": [],
   "source": [
    "def sec_order(t, y):\n",
    "    return np.array([y[1], -4 * y[0] - 2 * y[1] + t * np.sin(2*t)])"
   ]
  },
  {
   "cell_type": "code",
   "execution_count": null,
   "id": "eb9b7728-fe29-480d-8a14-d293f3808b40",
   "metadata": {},
   "outputs": [],
   "source": [
    "solved = sint.solve_ivp(sec_order, [0, 20], [0, 1], dense_output=True)\n",
    "print(solved)"
   ]
  },
  {
   "cell_type": "code",
   "execution_count": null,
   "id": "278c0a6f-f2a1-4c41-b35c-543ad3f82d51",
   "metadata": {},
   "outputs": [],
   "source": [
    "# solution for t in the range [0, 10]\n",
    "t_array = np.linspace(0, 20, 101)\n",
    "y_array = solved.sol(t_array)[0]"
   ]
  },
  {
   "cell_type": "code",
   "execution_count": null,
   "id": "4374f20e-a482-4a23-a24f-72fd1a6e89d6",
   "metadata": {},
   "outputs": [],
   "source": [
    "# x against time and y against time\n",
    "\n",
    "fig = plt.figure()\n",
    "ax = fig.add_subplot()\n",
    "\n",
    "ax.plot(t_array, y_array)\n",
    "\n",
    "plt.show(fig)"
   ]
  },
  {
   "cell_type": "markdown",
   "id": "5d17458c-4ff8-4ebd-a5bd-317a5768d49e",
   "metadata": {
    "jp-MarkdownHeadingCollapsed": true
   },
   "source": [
    "### Exercise 3"
   ]
  },
  {
   "cell_type": "markdown",
   "id": "7eb4ac7c-7a37-4438-b521-7dd4d5c41890",
   "metadata": {},
   "source": [
    "The classic predator-prey model consists of the following system of differential equations (here $x$ is prey and $y$ is predator):\n",
    "$$\\begin{align}\n",
    "dx/dt & = α x − β x y \\\\\n",
    "dy/dt & = − γ y + δ x y\n",
    "\\end{align}$$\n",
    "With $α$ = 24 yr$^{−1}$, $β$ = 0.4 yr$^{−1}$, $γ$ = 2.0 yr$^{−1}$, $δ$ = 0.002 yr$^{−1}$"
   ]
  },
  {
   "cell_type": "markdown",
   "id": "1a57cdaf-28c4-46a1-8f5a-620cb7d50763",
   "metadata": {},
   "source": [
    "**Part 1.** For an initial population of 3000 preys and 50 predators, plot the prey and predator population as a function of time for the range [0 yr, 5 yr]. Plot also the phase portrait for the same time span"
   ]
  },
  {
   "cell_type": "markdown",
   "id": "bd4259ec-470a-4d44-b3c0-2f9abd9adf42",
   "metadata": {},
   "source": [
    "**Part 2.** Repeat the previous procedure with the same α, β, γ, and δ, but with:\n",
    "\n",
    " A. An initial population of 2000 preys and 50 predators\n",
    "\n",
    " B. An initial population of 1000 preys and 50 predators\n",
    "\n",
    "In a single pair of axes, plot the phase portrait with all 3 sets of initial conditions\n"
   ]
  },
  {
   "cell_type": "markdown",
   "id": "f5608019-5cde-4972-ab14-cb6ae63dc1c0",
   "metadata": {
    "jp-MarkdownHeadingCollapsed": true
   },
   "source": [
    "### Exercise 4"
   ]
  },
  {
   "cell_type": "markdown",
   "id": "6a37d131-0663-4256-b2fb-119ecd180c2f",
   "metadata": {},
   "source": [
    "Consider the following second-order linear differential equation:\n",
    "$$ t^2 \\, d^2y/dt^2 + t \\, dy/dt + (t^2 - 1) y = 0$$\n",
    "Starting with the initial condition $y(1) = 0$ and $dy/dt(1) = 1$, obtain the solution to the differential equation in the $t$ range* (0, 20], and plot the resulting $y$ as a function of $t$\n",
    "\n",
    "**Note 1:** practically, the open left bound at 0 amounts to a small positive left bound\n",
    "\n",
    "**Note 2:** you'll likely need to clip the y range of the plot in order to see the feature of the solution in the $t > 1$ region"
   ]
  },
  {
   "cell_type": "markdown",
   "id": "ccac57f2-1182-45d9-a570-7247d6563eb2",
   "metadata": {},
   "source": [
    "## Optimization"
   ]
  },
  {
   "cell_type": "markdown",
   "id": "c21c70d6-f67c-4092-9582-89ea89d5525a",
   "metadata": {
    "jp-MarkdownHeadingCollapsed": true
   },
   "source": [
    "### Example: minimization of a scalar function"
   ]
  },
  {
   "cell_type": "markdown",
   "id": "db6f7810-1104-463a-bf0b-442c9461b81a",
   "metadata": {},
   "source": [
    "Consider the minimization of the function $f(x) = \\log(1 + |x|^{2 + \\sin(x)})$"
   ]
  },
  {
   "cell_type": "code",
   "execution_count": null,
   "id": "520ca518-a0af-42b9-94a9-031b76dded2a",
   "metadata": {},
   "outputs": [],
   "source": [
    "def f(x):\n",
    "    return np.log(1 + np.abs(x)**(2 + np.sin(x)))"
   ]
  },
  {
   "cell_type": "code",
   "execution_count": null,
   "id": "c085351d-60b8-4629-b52a-17b88fa6e240",
   "metadata": {},
   "outputs": [],
   "source": [
    "x = np.linspace(-10, 10, 101)\n",
    "y = f(x)\n",
    "\n",
    "fig = plt.figure()\n",
    "ax = fig.add_subplot()\n",
    "\n",
    "ax.plot(x, y)\n",
    "\n",
    "plt.show(fig)"
   ]
  },
  {
   "cell_type": "code",
   "execution_count": null,
   "id": "7957f540-77af-431e-8331-7c8b45b35a46",
   "metadata": {},
   "outputs": [],
   "source": [
    "# use [-5, 5] as bracket\n",
    "result = sopt.minimize_scalar(f, [-5, 5])\n",
    "print(result)"
   ]
  },
  {
   "cell_type": "code",
   "execution_count": null,
   "id": "2143da4c-ce6e-468f-a7d2-c353189a967d",
   "metadata": {},
   "outputs": [],
   "source": [
    "# extract the value at which minimum is attained\n",
    "result.x"
   ]
  },
  {
   "cell_type": "code",
   "execution_count": null,
   "id": "7c0341c8-e1ed-482e-8072-267768f55273",
   "metadata": {},
   "outputs": [],
   "source": [
    "# extract the minimum value\n",
    "result.fun"
   ]
  },
  {
   "cell_type": "code",
   "execution_count": null,
   "id": "a6daf89a-f3d4-4802-b5b7-ef8c5ad67f6a",
   "metadata": {},
   "outputs": [],
   "source": [
    "# using a bracket that contains no local minimum\n",
    "sopt.minimize_scalar(f, [-5, -2.5])"
   ]
  },
  {
   "cell_type": "code",
   "execution_count": null,
   "id": "f85907cd-94a0-4b14-8b7e-64cf6bc304a8",
   "metadata": {},
   "outputs": [],
   "source": [
    "# using a bracket enclose local (but not global) minimum\n",
    "sopt.minimize_scalar(f, [4, 5])"
   ]
  },
  {
   "cell_type": "markdown",
   "id": "85898dd5-9707-47fa-adc3-e727f3d6091a",
   "metadata": {
    "jp-MarkdownHeadingCollapsed": true
   },
   "source": [
    "### Example: minimization of a multivariate function"
   ]
  },
  {
   "cell_type": "markdown",
   "id": "c7e89d27-b77a-4fb1-ac37-460e111724bf",
   "metadata": {},
   "source": [
    "Consider the minimization of $f(x, y) =  (1 − x)^2 + 100(y − x^2)^2$"
   ]
  },
  {
   "cell_type": "code",
   "execution_count": null,
   "id": "24721fd8-f882-45ff-bc46-1a6ab144b6f9",
   "metadata": {},
   "outputs": [],
   "source": [
    "def F(x):\n",
    "    return (1 - x[0])**2 + 50 * (x[1] - x[0]**2)**2"
   ]
  },
  {
   "cell_type": "code",
   "execution_count": null,
   "id": "d07f0967-897a-4e5d-8871-6228c719f71b",
   "metadata": {},
   "outputs": [],
   "source": [
    "x_array = np.linspace(-2, 2, 51)\n",
    "y_array = np.linspace(-2, 2, 51)\n",
    "\n",
    "x_grid, y_grid = np.meshgrid(x_array, y_array)\n",
    "f_grid = F(np.array([x_grid, y_grid]))\n",
    "\n",
    "fig = plt.figure()\n",
    "ax = fig.add_subplot()\n",
    "\n",
    "c = ax.contourf(\n",
    "    x_array, y_array, f_grid, \n",
    "    levels=np.geomspace(1E-5, 1E4, 20),\n",
    "    norm=mpl.colors.LogNorm(1E-5, 1E3)\n",
    ")\n",
    "cb = fig.colorbar(c)\n",
    "cb.set_ticks(np.geomspace(1E-5, 1E4, 10))\n",
    "\n",
    "plt.show(fig)"
   ]
  },
  {
   "cell_type": "code",
   "execution_count": null,
   "id": "1abaf1f4-b571-447a-915c-08b1cf9d6102",
   "metadata": {},
   "outputs": [],
   "source": [
    "result = sopt.minimize(F, [-1, -1])\n",
    "print(result)"
   ]
  },
  {
   "cell_type": "markdown",
   "id": "c51ef196-4907-44a9-969a-1aff2235123f",
   "metadata": {
    "jp-MarkdownHeadingCollapsed": true
   },
   "source": [
    "### Exercise 5"
   ]
  },
  {
   "cell_type": "markdown",
   "id": "2e3c44a9-7b39-477e-adbb-be2b348fa262",
   "metadata": {},
   "source": [
    "Maximize the function $f(x_1, x_2, x_3, x_4) = {x_1}^2 {x_2}^3 {x_3}^4 x_4$, where $x_i \\geq 0$ for i = 1, 2, 3, 4, subjected to the constraint $x_1 + 2 x_2 + 3 x_3 + x_4 = 100$\n",
    "\n",
    "Report both the maximum value and the values of $(x1, x2, x3, x4)$ at which the maximum is attained"
   ]
  }
 ],
 "metadata": {
  "kernelspec": {
   "display_name": "Python 3 (ipykernel)",
   "language": "python",
   "name": "python3"
  },
  "language_info": {
   "codemirror_mode": {
    "name": "ipython",
    "version": 3
   },
   "file_extension": ".py",
   "mimetype": "text/x-python",
   "name": "python",
   "nbconvert_exporter": "python",
   "pygments_lexer": "ipython3",
   "version": "3.12.8"
  }
 },
 "nbformat": 4,
 "nbformat_minor": 5
}
